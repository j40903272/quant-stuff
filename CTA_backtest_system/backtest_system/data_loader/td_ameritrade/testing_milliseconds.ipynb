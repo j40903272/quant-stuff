{
 "cells": [
  {
   "cell_type": "code",
   "execution_count": 6,
   "id": "87fb6564",
   "metadata": {},
   "outputs": [],
   "source": [
    "import time\n",
    "import os\n",
    "os.environ['TZ'] = 'Asia/Hong_Kong'\n",
    "\n",
    "def current_milli_time():\n",
    "    return round(time.time() * 1000)"
   ]
  },
  {
   "cell_type": "code",
   "execution_count": 7,
   "id": "232ed2dc",
   "metadata": {},
   "outputs": [
    {
     "data": {
      "text/plain": [
       "1663643881538"
      ]
     },
     "execution_count": 7,
     "metadata": {},
     "output_type": "execute_result"
    }
   ],
   "source": [
    "current_milli_time()"
   ]
  },
  {
   "cell_type": "code",
   "execution_count": 8,
   "id": "916e59ff",
   "metadata": {},
   "outputs": [
    {
     "name": "stdout",
     "output_type": "stream",
     "text": [
      "The current time in milliseconds: 1663643882139\n"
     ]
    }
   ],
   "source": [
    "import time\n",
    "t = time.time()\n",
    "t_ms = int(t * 1000)\n",
    "print(f\"The current time in milliseconds: {t_ms}\")"
   ]
  },
  {
   "cell_type": "code",
   "execution_count": 9,
   "id": "a6a45b0b",
   "metadata": {},
   "outputs": [
    {
     "name": "stdout",
     "output_type": "stream",
     "text": [
      "The timestamp is 2022-09-20 11:18:41.724839\n"
     ]
    }
   ],
   "source": [
    "from datetime import datetime\n",
    "now = datetime.now()\n",
    "print(f\"The timestamp is {now}\")"
   ]
  },
  {
   "cell_type": "code",
   "execution_count": 10,
   "id": "c682b40e",
   "metadata": {},
   "outputs": [
    {
     "name": "stdout",
     "output_type": "stream",
     "text": [
      "HKT\n"
     ]
    }
   ],
   "source": [
    "from datetime import datetime\n",
    "now = datetime.now()\n",
    "now_with_tz = now.astimezone()\n",
    "my_timezone = now_with_tz.tzinfo\n",
    "print(my_timezone)"
   ]
  },
  {
   "cell_type": "code",
   "execution_count": 12,
   "id": "50db81c4",
   "metadata": {},
   "outputs": [
    {
     "name": "stdout",
     "output_type": "stream",
     "text": [
      "The epoch time is now: 1663643969461.943\n"
     ]
    }
   ],
   "source": [
    "import time\n",
    "t_epoch = time.time()\n",
    "print(f\"The epoch time is now: {t_epoch*1000}\")"
   ]
  },
  {
   "cell_type": "code",
   "execution_count": null,
   "id": "7f81f52e",
   "metadata": {},
   "outputs": [],
   "source": []
  }
 ],
 "metadata": {
  "kernelspec": {
   "display_name": "Python 3 (ipykernel)",
   "language": "python",
   "name": "python3"
  },
  "language_info": {
   "codemirror_mode": {
    "name": "ipython",
    "version": 3
   },
   "file_extension": ".py",
   "mimetype": "text/x-python",
   "name": "python",
   "nbconvert_exporter": "python",
   "pygments_lexer": "ipython3",
   "version": "3.8.13"
  }
 },
 "nbformat": 4,
 "nbformat_minor": 5
}
