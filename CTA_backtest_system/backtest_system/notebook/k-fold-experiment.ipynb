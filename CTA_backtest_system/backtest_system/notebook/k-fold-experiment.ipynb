{
 "cells": [
  {
   "cell_type": "markdown",
   "id": "fc5f8c7b",
   "metadata": {},
   "source": [
    "## Walk-Forward (WF) Algorithm\n",
    "\n",
    "```\n",
    "Given a data set:\n",
    "|---------------------------------------------------------------|\n",
    "\n",
    "Section into k folds:\n",
    "|---------------|---------------|---------------|---------------|\n",
    "\n",
    "For each fold:\n",
    "|---------------|\n",
    "\n",
    "Section into train and test with pre-determined split ratio R as in-sample (IS):\n",
    "|---R---|--1-R--|\n",
    "===IN SAMPLE 1===\n",
    "\n",
    "```\n",
    "\n",
    "Perform param search for this k-th section and obtain param optimal set $S_1$ by optuna searching for $n=10000$ times\n",
    "- Determination of optimal set is done automatically by selecting a random set candidate from top 20 set in ranked mean-train-test sortino ratio (mean of train sortino and test sortino)\n",
    "- Run with this param on (k+1)-th fold of data and obtain true OOS\n",
    "- Record this PnL"
   ]
  }
 ],
 "metadata": {
  "kernelspec": {
   "display_name": "Python 3 (ipykernel)",
   "language": "python",
   "name": "python3"
  },
  "language_info": {
   "codemirror_mode": {
    "name": "ipython",
    "version": 3
   },
   "file_extension": ".py",
   "mimetype": "text/x-python",
   "name": "python",
   "nbconvert_exporter": "python",
   "pygments_lexer": "ipython3",
   "version": "3.8.13"
  }
 },
 "nbformat": 4,
 "nbformat_minor": 5
}
